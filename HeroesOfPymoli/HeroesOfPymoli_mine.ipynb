{
 "cells": [
  {
   "cell_type": "markdown",
   "metadata": {},
   "source": [
    "### Note\n",
    "* Instructions have been included for each segment. You do not have to follow them exactly, but they are included to help you think through the steps."
   ]
  },
  {
   "cell_type": "code",
   "execution_count": 1,
   "metadata": {},
   "outputs": [
    {
     "data": {
      "text/html": [
       "<div>\n",
       "<style scoped>\n",
       "    .dataframe tbody tr th:only-of-type {\n",
       "        vertical-align: middle;\n",
       "    }\n",
       "\n",
       "    .dataframe tbody tr th {\n",
       "        vertical-align: top;\n",
       "    }\n",
       "\n",
       "    .dataframe thead th {\n",
       "        text-align: right;\n",
       "    }\n",
       "</style>\n",
       "<table border=\"1\" class=\"dataframe\">\n",
       "  <thead>\n",
       "    <tr style=\"text-align: right;\">\n",
       "      <th></th>\n",
       "      <th>Purchase ID</th>\n",
       "      <th>SN</th>\n",
       "      <th>Age</th>\n",
       "      <th>Gender</th>\n",
       "      <th>Item ID</th>\n",
       "      <th>Item Name</th>\n",
       "      <th>Price</th>\n",
       "    </tr>\n",
       "  </thead>\n",
       "  <tbody>\n",
       "    <tr>\n",
       "      <th>0</th>\n",
       "      <td>0</td>\n",
       "      <td>Lisim78</td>\n",
       "      <td>20</td>\n",
       "      <td>Male</td>\n",
       "      <td>108</td>\n",
       "      <td>Extraction, Quickblade Of Trembling Hands</td>\n",
       "      <td>3.53</td>\n",
       "    </tr>\n",
       "    <tr>\n",
       "      <th>1</th>\n",
       "      <td>1</td>\n",
       "      <td>Lisovynya38</td>\n",
       "      <td>40</td>\n",
       "      <td>Male</td>\n",
       "      <td>143</td>\n",
       "      <td>Frenzied Scimitar</td>\n",
       "      <td>1.56</td>\n",
       "    </tr>\n",
       "    <tr>\n",
       "      <th>2</th>\n",
       "      <td>2</td>\n",
       "      <td>Ithergue48</td>\n",
       "      <td>24</td>\n",
       "      <td>Male</td>\n",
       "      <td>92</td>\n",
       "      <td>Final Critic</td>\n",
       "      <td>4.88</td>\n",
       "    </tr>\n",
       "    <tr>\n",
       "      <th>3</th>\n",
       "      <td>3</td>\n",
       "      <td>Chamassasya86</td>\n",
       "      <td>24</td>\n",
       "      <td>Male</td>\n",
       "      <td>100</td>\n",
       "      <td>Blindscythe</td>\n",
       "      <td>3.27</td>\n",
       "    </tr>\n",
       "    <tr>\n",
       "      <th>4</th>\n",
       "      <td>4</td>\n",
       "      <td>Iskosia90</td>\n",
       "      <td>23</td>\n",
       "      <td>Male</td>\n",
       "      <td>131</td>\n",
       "      <td>Fury</td>\n",
       "      <td>1.44</td>\n",
       "    </tr>\n",
       "  </tbody>\n",
       "</table>\n",
       "</div>"
      ],
      "text/plain": [
       "   Purchase ID             SN  Age Gender  Item ID  \\\n",
       "0            0        Lisim78   20   Male      108   \n",
       "1            1    Lisovynya38   40   Male      143   \n",
       "2            2     Ithergue48   24   Male       92   \n",
       "3            3  Chamassasya86   24   Male      100   \n",
       "4            4      Iskosia90   23   Male      131   \n",
       "\n",
       "                                   Item Name  Price  \n",
       "0  Extraction, Quickblade Of Trembling Hands   3.53  \n",
       "1                          Frenzied Scimitar   1.56  \n",
       "2                               Final Critic   4.88  \n",
       "3                                Blindscythe   3.27  \n",
       "4                                       Fury   1.44  "
      ]
     },
     "execution_count": 1,
     "metadata": {},
     "output_type": "execute_result"
    }
   ],
   "source": [
    "# Dependencies and Setup\n",
    "import pandas as pd\n",
    "\n",
    "# File to Load (Remember to Change These)\n",
    "file_to_load = \"Resources/purchase_data.csv\"\n",
    "\n",
    "# Read Purchasing File and store into Pandas data frame\n",
    "purchase_data = pd.read_csv(file_to_load)\n",
    "\n",
    "purchase_data.head()"
   ]
  },
  {
   "cell_type": "markdown",
   "metadata": {},
   "source": [
    "## Player Count"
   ]
  },
  {
   "cell_type": "markdown",
   "metadata": {},
   "source": [
    "* Display the total number of players\n"
   ]
  },
  {
   "cell_type": "code",
   "execution_count": 2,
   "metadata": {},
   "outputs": [
    {
     "data": {
      "text/html": [
       "<div>\n",
       "<style scoped>\n",
       "    .dataframe tbody tr th:only-of-type {\n",
       "        vertical-align: middle;\n",
       "    }\n",
       "\n",
       "    .dataframe tbody tr th {\n",
       "        vertical-align: top;\n",
       "    }\n",
       "\n",
       "    .dataframe thead th {\n",
       "        text-align: right;\n",
       "    }\n",
       "</style>\n",
       "<table border=\"1\" class=\"dataframe\">\n",
       "  <thead>\n",
       "    <tr style=\"text-align: right;\">\n",
       "      <th></th>\n",
       "      <th>Total Players</th>\n",
       "    </tr>\n",
       "  </thead>\n",
       "  <tbody>\n",
       "    <tr>\n",
       "      <th>0</th>\n",
       "      <td>576</td>\n",
       "    </tr>\n",
       "  </tbody>\n",
       "</table>\n",
       "</div>"
      ],
      "text/plain": [
       "   Total Players\n",
       "0            576"
      ]
     },
     "execution_count": 2,
     "metadata": {},
     "output_type": "execute_result"
    }
   ],
   "source": [
    "\n",
    "\n",
    "pd.DataFrame([purchase_data[\"SN\"].nunique()], columns = [\"Total Players\"])\n"
   ]
  },
  {
   "cell_type": "markdown",
   "metadata": {},
   "source": [
    "## Purchasing Analysis (Total)"
   ]
  },
  {
   "cell_type": "markdown",
   "metadata": {},
   "source": [
    "* Run basic calculations to obtain number of unique items, average price, etc.\n",
    "\n",
    "\n",
    "* Create a summary data frame to hold the results\n",
    "\n",
    "\n",
    "* Optional: give the displayed data cleaner formatting\n",
    "\n",
    "\n",
    "* Display the summary data frame\n"
   ]
  },
  {
   "cell_type": "code",
   "execution_count": 3,
   "metadata": {
    "scrolled": true
   },
   "outputs": [
    {
     "data": {
      "text/html": [
       "<style  type=\"text/css\" >\n",
       "</style><table id=\"T_24fc42ba_e370_11eb_a51e_18cc18fe5d70\" ><thead>    <tr>        <th class=\"blank level0\" ></th>        <th class=\"col_heading level0 col0\" >Number of Unique Items</th>        <th class=\"col_heading level0 col1\" >Average Price</th>        <th class=\"col_heading level0 col2\" >Number of Purchases</th>        <th class=\"col_heading level0 col3\" >Total Revenues</th>    </tr></thead><tbody>\n",
       "                <tr>\n",
       "                        <th id=\"T_24fc42ba_e370_11eb_a51e_18cc18fe5d70level0_row0\" class=\"row_heading level0 row0\" >0</th>\n",
       "                        <td id=\"T_24fc42ba_e370_11eb_a51e_18cc18fe5d70row0_col0\" class=\"data row0 col0\" >179</td>\n",
       "                        <td id=\"T_24fc42ba_e370_11eb_a51e_18cc18fe5d70row0_col1\" class=\"data row0 col1\" >$3.05</td>\n",
       "                        <td id=\"T_24fc42ba_e370_11eb_a51e_18cc18fe5d70row0_col2\" class=\"data row0 col2\" >780</td>\n",
       "                        <td id=\"T_24fc42ba_e370_11eb_a51e_18cc18fe5d70row0_col3\" class=\"data row0 col3\" >$2,379.77</td>\n",
       "            </tr>\n",
       "    </tbody></table>"
      ],
      "text/plain": [
       "<pandas.io.formats.style.Styler at 0x1c3f7032f40>"
      ]
     },
     "execution_count": 3,
     "metadata": {},
     "output_type": "execute_result"
    }
   ],
   "source": [
    "# create a dataframe and find the number of unique items\n",
    "data_file_df = pd.DataFrame([purchase_data[\"Item Name\"].nunique()], columns = [\"Number of Unique Items\"])\n",
    "#number_of_unique_items = purchase_data[\"Item Name\"].nunique()], columns = [\"Number of Unique Items\"]\n",
    "\n",
    "# find the average price\n",
    "average = purchase_data[\"Price\"].mean()\n",
    "data_file_df[\"Average Price\"] = average\n",
    "\n",
    "# Calculate the number of purchases\n",
    "number_of_purchases = purchase_data[\"Purchase ID\"].count()\n",
    "data_file_df[\"Number of Purchases\"] = number_of_purchases\n",
    "\n",
    "# Calucate the total revenues\n",
    "total_revenues = purchase_data[\"Price\"].sum()\n",
    "data_file_df[\"Total Revenues\"] = total_revenues\n",
    "\n",
    "# format columns\n",
    "format_dict = {col_name: '${:,.2f}' for col_name in data_file_df.select_dtypes(float).columns}\n",
    "\n",
    "data_file_df.head().style.format(format_dict)"
   ]
  },
  {
   "cell_type": "markdown",
   "metadata": {},
   "source": [
    "## Gender Demographics"
   ]
  },
  {
   "cell_type": "markdown",
   "metadata": {},
   "source": [
    "* Percentage and Count of Male Players\n",
    "\n",
    "\n",
    "* Percentage and Count of Female Players\n",
    "\n",
    "\n",
    "* Percentage and Count of Other / Non-Disclosed\n",
    "\n",
    "\n"
   ]
  },
  {
   "cell_type": "code",
   "execution_count": 4,
   "metadata": {},
   "outputs": [
    {
     "data": {
      "text/html": [
       "<style  type=\"text/css\" >\n",
       "</style><table id=\"T_250112fc_e370_11eb_8183_18cc18fe5d70\" ><thead>    <tr>        <th class=\"blank level0\" ></th>        <th class=\"col_heading level0 col0\" >Total Counts</th>        <th class=\"col_heading level0 col1\" >Percent of Players</th>    </tr></thead><tbody>\n",
       "                <tr>\n",
       "                        <th id=\"T_250112fc_e370_11eb_8183_18cc18fe5d70level0_row0\" class=\"row_heading level0 row0\" >Male</th>\n",
       "                        <td id=\"T_250112fc_e370_11eb_8183_18cc18fe5d70row0_col0\" class=\"data row0 col0\" >484</td>\n",
       "                        <td id=\"T_250112fc_e370_11eb_8183_18cc18fe5d70row0_col1\" class=\"data row0 col1\" >84.03%</td>\n",
       "            </tr>\n",
       "            <tr>\n",
       "                        <th id=\"T_250112fc_e370_11eb_8183_18cc18fe5d70level0_row1\" class=\"row_heading level0 row1\" >Female</th>\n",
       "                        <td id=\"T_250112fc_e370_11eb_8183_18cc18fe5d70row1_col0\" class=\"data row1 col0\" >81</td>\n",
       "                        <td id=\"T_250112fc_e370_11eb_8183_18cc18fe5d70row1_col1\" class=\"data row1 col1\" >14.06%</td>\n",
       "            </tr>\n",
       "            <tr>\n",
       "                        <th id=\"T_250112fc_e370_11eb_8183_18cc18fe5d70level0_row2\" class=\"row_heading level0 row2\" >Other / Non-Disclosed</th>\n",
       "                        <td id=\"T_250112fc_e370_11eb_8183_18cc18fe5d70row2_col0\" class=\"data row2 col0\" >11</td>\n",
       "                        <td id=\"T_250112fc_e370_11eb_8183_18cc18fe5d70row2_col1\" class=\"data row2 col1\" >1.91%</td>\n",
       "            </tr>\n",
       "    </tbody></table>"
      ],
      "text/plain": [
       "<pandas.io.formats.style.Styler at 0x1c3f70320a0>"
      ]
     },
     "execution_count": 4,
     "metadata": {},
     "output_type": "execute_result"
    }
   ],
   "source": [
    "# filter for unique players\n",
    "unique_players_df = purchase_data.drop_duplicates(subset=[\"SN\"])\n",
    "\n",
    "# Get a count of the males, females undisclosed\n",
    "count = unique_players_df[\"Gender\"].value_counts()\n",
    "\n",
    "# Create a dataframe and add the count\n",
    "gender_df = pd.DataFrame({\"Total Counts\": (count)})\n",
    "\n",
    "# Get a total gender count\n",
    "total = unique_players_df[\"Gender\"].count()\n",
    "\n",
    "# Find the percent of each gender\n",
    "perc_gender_total = count/total\n",
    "\n",
    "# Add the percents to the dataframe\n",
    "gender_df[\"Percent of Players\"] = perc_gender_total\n",
    "\n",
    "# format columns\n",
    "format_dict = {col_name: '{:.2%}' for col_name in gender_df.select_dtypes(float).columns}\n",
    "\n",
    "gender_df.head().style.format(format_dict)"
   ]
  },
  {
   "cell_type": "markdown",
   "metadata": {},
   "source": [
    "\n",
    "## Purchasing Analysis (Gender)"
   ]
  },
  {
   "cell_type": "markdown",
   "metadata": {},
   "source": [
    "* Run basic calculations to obtain purchase count, avg. purchase price, avg. purchase total per person etc. by gender\n",
    "\n",
    "\n",
    "\n",
    "\n",
    "* Create a summary data frame to hold the results\n",
    "\n",
    "\n",
    "* Optional: give the displayed data cleaner formatting\n",
    "\n",
    "\n",
    "* Display the summary data frame"
   ]
  },
  {
   "cell_type": "code",
   "execution_count": 5,
   "metadata": {},
   "outputs": [
    {
     "data": {
      "text/html": [
       "<style  type=\"text/css\" >\n",
       "</style><table id=\"T_2509b86a_e370_11eb_8810_18cc18fe5d70\" ><thead>    <tr>        <th class=\"blank level0\" ></th>        <th class=\"col_heading level0 col0\" >Purchase Count</th>        <th class=\"col_heading level0 col1\" >Average Purchase Price</th>        <th class=\"col_heading level0 col2\" >Total Purchase Value</th>        <th class=\"col_heading level0 col3\" >Avg Total Purchase per Person</th>    </tr>    <tr>        <th class=\"index_name level0\" >Gender</th>        <th class=\"blank\" ></th>        <th class=\"blank\" ></th>        <th class=\"blank\" ></th>        <th class=\"blank\" ></th>    </tr></thead><tbody>\n",
       "                <tr>\n",
       "                        <th id=\"T_2509b86a_e370_11eb_8810_18cc18fe5d70level0_row0\" class=\"row_heading level0 row0\" >Female</th>\n",
       "                        <td id=\"T_2509b86a_e370_11eb_8810_18cc18fe5d70row0_col0\" class=\"data row0 col0\" >113</td>\n",
       "                        <td id=\"T_2509b86a_e370_11eb_8810_18cc18fe5d70row0_col1\" class=\"data row0 col1\" >$3.20</td>\n",
       "                        <td id=\"T_2509b86a_e370_11eb_8810_18cc18fe5d70row0_col2\" class=\"data row0 col2\" >$361.94</td>\n",
       "                        <td id=\"T_2509b86a_e370_11eb_8810_18cc18fe5d70row0_col3\" class=\"data row0 col3\" >$4.47</td>\n",
       "            </tr>\n",
       "            <tr>\n",
       "                        <th id=\"T_2509b86a_e370_11eb_8810_18cc18fe5d70level0_row1\" class=\"row_heading level0 row1\" >Male</th>\n",
       "                        <td id=\"T_2509b86a_e370_11eb_8810_18cc18fe5d70row1_col0\" class=\"data row1 col0\" >652</td>\n",
       "                        <td id=\"T_2509b86a_e370_11eb_8810_18cc18fe5d70row1_col1\" class=\"data row1 col1\" >$3.02</td>\n",
       "                        <td id=\"T_2509b86a_e370_11eb_8810_18cc18fe5d70row1_col2\" class=\"data row1 col2\" >$1,967.64</td>\n",
       "                        <td id=\"T_2509b86a_e370_11eb_8810_18cc18fe5d70row1_col3\" class=\"data row1 col3\" >$4.07</td>\n",
       "            </tr>\n",
       "            <tr>\n",
       "                        <th id=\"T_2509b86a_e370_11eb_8810_18cc18fe5d70level0_row2\" class=\"row_heading level0 row2\" >Other / Non-Disclosed</th>\n",
       "                        <td id=\"T_2509b86a_e370_11eb_8810_18cc18fe5d70row2_col0\" class=\"data row2 col0\" >15</td>\n",
       "                        <td id=\"T_2509b86a_e370_11eb_8810_18cc18fe5d70row2_col1\" class=\"data row2 col1\" >$3.35</td>\n",
       "                        <td id=\"T_2509b86a_e370_11eb_8810_18cc18fe5d70row2_col2\" class=\"data row2 col2\" >$50.19</td>\n",
       "                        <td id=\"T_2509b86a_e370_11eb_8810_18cc18fe5d70row2_col3\" class=\"data row2 col3\" >$4.56</td>\n",
       "            </tr>\n",
       "    </tbody></table>"
      ],
      "text/plain": [
       "<pandas.io.formats.style.Styler at 0x1c3f8144760>"
      ]
     },
     "execution_count": 5,
     "metadata": {},
     "output_type": "execute_result"
    }
   ],
   "source": [
    "# groupby person and sum the total price\n",
    "grouped_person_df = purchase_data.groupby(['SN', 'Gender'], as_index=False)['Price'].sum()\n",
    "\n",
    "# Using GroupBy in order to separate the data into fields according to \"Gender\" values\n",
    "grouped_gender_df = purchase_data.groupby(['Gender'])\n",
    "\n",
    "# In order to be visualized, a data function must be used...\n",
    "grouped_gender_price_df = grouped_gender_df.describe()['Price']\n",
    "\n",
    "# filter on 'count' and 'mean'\n",
    "grouped_gen_price_filt_df = grouped_gender_price_df[['count', 'mean']].copy()\n",
    "\n",
    "# groupby gender and the sum pri\n",
    "grouped_gen_price_filt_df['Total Purchase Value'] = purchase_data.groupby(['Gender'])['Price'].sum()\n",
    "\n",
    "# groupby gender and then take the mean\n",
    "grouped_gen_price_filt_df[\"Avg Total Purchase per Person\"] = grouped_person_df.groupby(['Gender'])['Price'].mean()\n",
    "\n",
    "# rename 'count' to 'Purchase Count' and 'mean' to 'Average Purchase Price'\n",
    "grouped_gen_price_filt_df.rename(columns={'count': 'Purchase Count', 'mean': 'Average Purchase Price'}, inplace=True)\n",
    "\n",
    "# format 'Purchase Count' to integer\n",
    "grouped_gen_price_filt_df['Purchase Count'] = grouped_gen_price_filt_df['Purchase Count'].astype(int)\n",
    "\n",
    "# format all columns to dollars with two decimal points\n",
    "format_dict = {col_name: '${:,.2f}' for col_name in grouped_gen_price_filt_df.select_dtypes(float).columns}\n",
    "\n",
    "# print the dataframe with the appropriate format\n",
    "grouped_gen_price_filt_df = grouped_gen_price_filt_df.head().style.format(format_dict)\n",
    "\n",
    "# print the dataframe with the appropriate format\n",
    "grouped_gen_price_filt_df\n"
   ]
  },
  {
   "cell_type": "markdown",
   "metadata": {},
   "source": [
    "## Age Demographics"
   ]
  },
  {
   "cell_type": "markdown",
   "metadata": {},
   "source": [
    "* Establish bins for ages\n",
    "\n",
    "\n",
    "* Categorize the existing players using the age bins. Hint: use pd.cut()\n",
    "\n",
    "\n",
    "* Calculate the numbers and percentages by age group\n",
    "\n",
    "\n",
    "* Create a summary data frame to hold the results\n",
    "\n",
    "\n",
    "* Optional: round the percentage column to two decimal points\n",
    "\n",
    "\n",
    "* Display Age Demographics Table\n"
   ]
  },
  {
   "cell_type": "code",
   "execution_count": 6,
   "metadata": {},
   "outputs": [
    {
     "data": {
      "text/html": [
       "<style  type=\"text/css\" >\n",
       "</style><table id=\"T_25162c65_e370_11eb_89af_18cc18fe5d70\" ><thead>    <tr>        <th class=\"blank level0\" ></th>        <th class=\"col_heading level0 col0\" >Total Count</th>        <th class=\"col_heading level0 col1\" >Percentage of Players</th>    </tr>    <tr>        <th class=\"blank level1\" ></th>        <th class=\"col_heading level1 col0\" ></th>        <th class=\"col_heading level1 col1\" ></th>    </tr>    <tr>        <th class=\"index_name level0\" >Age Demographics Summary</th>        <th class=\"blank\" ></th>        <th class=\"blank\" ></th>    </tr></thead><tbody>\n",
       "                <tr>\n",
       "                        <th id=\"T_25162c65_e370_11eb_89af_18cc18fe5d70level0_row0\" class=\"row_heading level0 row0\" ><10</th>\n",
       "                        <td id=\"T_25162c65_e370_11eb_89af_18cc18fe5d70row0_col0\" class=\"data row0 col0\" >17</td>\n",
       "                        <td id=\"T_25162c65_e370_11eb_89af_18cc18fe5d70row0_col1\" class=\"data row0 col1\" >2.95%</td>\n",
       "            </tr>\n",
       "            <tr>\n",
       "                        <th id=\"T_25162c65_e370_11eb_89af_18cc18fe5d70level0_row1\" class=\"row_heading level0 row1\" >10-14</th>\n",
       "                        <td id=\"T_25162c65_e370_11eb_89af_18cc18fe5d70row1_col0\" class=\"data row1 col0\" >22</td>\n",
       "                        <td id=\"T_25162c65_e370_11eb_89af_18cc18fe5d70row1_col1\" class=\"data row1 col1\" >3.82%</td>\n",
       "            </tr>\n",
       "            <tr>\n",
       "                        <th id=\"T_25162c65_e370_11eb_89af_18cc18fe5d70level0_row2\" class=\"row_heading level0 row2\" >15-19</th>\n",
       "                        <td id=\"T_25162c65_e370_11eb_89af_18cc18fe5d70row2_col0\" class=\"data row2 col0\" >107</td>\n",
       "                        <td id=\"T_25162c65_e370_11eb_89af_18cc18fe5d70row2_col1\" class=\"data row2 col1\" >18.58%</td>\n",
       "            </tr>\n",
       "            <tr>\n",
       "                        <th id=\"T_25162c65_e370_11eb_89af_18cc18fe5d70level0_row3\" class=\"row_heading level0 row3\" >20-24</th>\n",
       "                        <td id=\"T_25162c65_e370_11eb_89af_18cc18fe5d70row3_col0\" class=\"data row3 col0\" >258</td>\n",
       "                        <td id=\"T_25162c65_e370_11eb_89af_18cc18fe5d70row3_col1\" class=\"data row3 col1\" >44.79%</td>\n",
       "            </tr>\n",
       "            <tr>\n",
       "                        <th id=\"T_25162c65_e370_11eb_89af_18cc18fe5d70level0_row4\" class=\"row_heading level0 row4\" >25-29</th>\n",
       "                        <td id=\"T_25162c65_e370_11eb_89af_18cc18fe5d70row4_col0\" class=\"data row4 col0\" >77</td>\n",
       "                        <td id=\"T_25162c65_e370_11eb_89af_18cc18fe5d70row4_col1\" class=\"data row4 col1\" >13.37%</td>\n",
       "            </tr>\n",
       "            <tr>\n",
       "                        <th id=\"T_25162c65_e370_11eb_89af_18cc18fe5d70level0_row5\" class=\"row_heading level0 row5\" >30-34</th>\n",
       "                        <td id=\"T_25162c65_e370_11eb_89af_18cc18fe5d70row5_col0\" class=\"data row5 col0\" >52</td>\n",
       "                        <td id=\"T_25162c65_e370_11eb_89af_18cc18fe5d70row5_col1\" class=\"data row5 col1\" >9.03%</td>\n",
       "            </tr>\n",
       "            <tr>\n",
       "                        <th id=\"T_25162c65_e370_11eb_89af_18cc18fe5d70level0_row6\" class=\"row_heading level0 row6\" >35-39</th>\n",
       "                        <td id=\"T_25162c65_e370_11eb_89af_18cc18fe5d70row6_col0\" class=\"data row6 col0\" >31</td>\n",
       "                        <td id=\"T_25162c65_e370_11eb_89af_18cc18fe5d70row6_col1\" class=\"data row6 col1\" >5.38%</td>\n",
       "            </tr>\n",
       "            <tr>\n",
       "                        <th id=\"T_25162c65_e370_11eb_89af_18cc18fe5d70level0_row7\" class=\"row_heading level0 row7\" >40+</th>\n",
       "                        <td id=\"T_25162c65_e370_11eb_89af_18cc18fe5d70row7_col0\" class=\"data row7 col0\" >12</td>\n",
       "                        <td id=\"T_25162c65_e370_11eb_89af_18cc18fe5d70row7_col1\" class=\"data row7 col1\" >2.08%</td>\n",
       "            </tr>\n",
       "    </tbody></table>"
      ],
      "text/plain": [
       "<pandas.io.formats.style.Styler at 0x1c3f7032cd0>"
      ]
     },
     "execution_count": 6,
     "metadata": {},
     "output_type": "execute_result"
    }
   ],
   "source": [
    "# rename the original dataframe to one for age and drop duplicates\n",
    "age_demog_df = pd.DataFrame(purchase_data).drop_duplicates(subset=[\"SN\"])\n",
    "\n",
    "# Establish bins for ages   \n",
    "bins = [0, 9.5, 14.5, 19.5, 24.5, 29.5, 34.5, 39.5, 50]\n",
    "\n",
    "# Create the names for the five bins\n",
    "age_names = [\"<10\", \"10-14\", \"15-19\", \"20-24\", \"25-29\", \"30-34\", \"35-39\", \"40+\"]\n",
    "\n",
    "# Categorize the existing players using the age bins. Hint: use pd.cut()\n",
    "age_demog_df[\"Age Demographics Summary\"] = pd.cut(age_demog_df[\"Age\"], bins, labels=age_names, include_lowest=True)\n",
    "\n",
    "# Calculate the numbers and percentages by age group\n",
    "age_demog_groupby_df = age_demog_df.groupby(\"Age Demographics Summary\")\n",
    "\n",
    "# use a data function to visualize the data\n",
    "age_demog_groupby_df = age_demog_groupby_df.describe()\n",
    "\n",
    "list(age_demog_groupby_df.columns)\n",
    "\n",
    "# use a data function to visualize the data\n",
    "#age_demog_groupby_df = age_demog_groupby_df.reindex(columns=columns)\n",
    "\n",
    "# filter so it is only count\n",
    "age_demog_groupby_df = age_demog_groupby_df[[('Purchase ID', 'count')]].astype(int)\n",
    "\n",
    "# get the total count\n",
    "total = age_demog_groupby_df[('Purchase ID', 'count')].sum()\n",
    "\n",
    "# rename the header to 'Total Count' from 'Purchase ID, count'\n",
    "age_demog_groupby_df.rename(columns={'Purchase ID': 'Total Count', 'count': ''}, inplace=True)\n",
    "\n",
    "# get the percent for each age group and add to the dataframe\n",
    "perc_gender_total = age_demog_groupby_df/total\n",
    "\n",
    "# Add the percents to the dataframe\n",
    "age_demog_groupby_df[\"Percentage of Players\"] = perc_gender_total\n",
    "\n",
    "# format all columns to dollars with two decimal points\n",
    "format_dict = {col_name: '{:,.2%}' for col_name in age_demog_groupby_df.select_dtypes(float).columns}\n",
    "\n",
    "# print the dataframe with the appropriate format\n",
    "age_demog_groupby_df = age_demog_groupby_df.style.format(format_dict)\n",
    "\n",
    "# Display Age Demographics Table\n",
    "age_demog_groupby_df"
   ]
  },
  {
   "cell_type": "markdown",
   "metadata": {},
   "source": [
    "## Purchasing Analysis (Age)"
   ]
  },
  {
   "cell_type": "markdown",
   "metadata": {},
   "source": [
    "* Bin the purchase_data data frame by age\n",
    "\n",
    "\n",
    "* Run basic calculations to obtain purchase count, avg. purchase price, avg. purchase total per person etc. in the table below\n",
    "\n",
    "\n",
    "* Create a summary data frame to hold the results\n",
    "\n",
    "\n",
    "* Optional: give the displayed data cleaner formatting\n",
    "\n",
    "\n",
    "* Display the summary data frame"
   ]
  },
  {
   "cell_type": "code",
   "execution_count": 11,
   "metadata": {},
   "outputs": [
    {
     "data": {
      "text/html": [
       "<style  type=\"text/css\" >\n",
       "</style><table id=\"T_71868020_e370_11eb_8c27_18cc18fe5d70\" ><thead>    <tr>        <th class=\"blank level0\" ></th>        <th class=\"col_heading level0 col0\" >Purchase Count</th>        <th class=\"col_heading level0 col1\" >Average Purchase Price</th>        <th class=\"col_heading level0 col2\" >Total Purchase Value</th>        <th class=\"col_heading level0 col3\" >Avg Total Purchase per Person</th>    </tr>    <tr>        <th class=\"blank level1\" ></th>        <th class=\"col_heading level1 col0\" ></th>        <th class=\"col_heading level1 col1\" ></th>        <th class=\"col_heading level1 col2\" ></th>        <th class=\"col_heading level1 col3\" ></th>    </tr>    <tr>        <th class=\"index_name level0\" >Age Ranges</th>        <th class=\"blank\" ></th>        <th class=\"blank\" ></th>        <th class=\"blank\" ></th>        <th class=\"blank\" ></th>    </tr></thead><tbody>\n",
       "                <tr>\n",
       "                        <th id=\"T_71868020_e370_11eb_8c27_18cc18fe5d70level0_row0\" class=\"row_heading level0 row0\" ><10</th>\n",
       "                        <td id=\"T_71868020_e370_11eb_8c27_18cc18fe5d70row0_col0\" class=\"data row0 col0\" >23</td>\n",
       "                        <td id=\"T_71868020_e370_11eb_8c27_18cc18fe5d70row0_col1\" class=\"data row0 col1\" >$3.35</td>\n",
       "                        <td id=\"T_71868020_e370_11eb_8c27_18cc18fe5d70row0_col2\" class=\"data row0 col2\" >$77.13</td>\n",
       "                        <td id=\"T_71868020_e370_11eb_8c27_18cc18fe5d70row0_col3\" class=\"data row0 col3\" >$4.54</td>\n",
       "            </tr>\n",
       "            <tr>\n",
       "                        <th id=\"T_71868020_e370_11eb_8c27_18cc18fe5d70level0_row1\" class=\"row_heading level0 row1\" >10-14</th>\n",
       "                        <td id=\"T_71868020_e370_11eb_8c27_18cc18fe5d70row1_col0\" class=\"data row1 col0\" >28</td>\n",
       "                        <td id=\"T_71868020_e370_11eb_8c27_18cc18fe5d70row1_col1\" class=\"data row1 col1\" >$2.96</td>\n",
       "                        <td id=\"T_71868020_e370_11eb_8c27_18cc18fe5d70row1_col2\" class=\"data row1 col2\" >$82.78</td>\n",
       "                        <td id=\"T_71868020_e370_11eb_8c27_18cc18fe5d70row1_col3\" class=\"data row1 col3\" >$3.76</td>\n",
       "            </tr>\n",
       "            <tr>\n",
       "                        <th id=\"T_71868020_e370_11eb_8c27_18cc18fe5d70level0_row2\" class=\"row_heading level0 row2\" >15-19</th>\n",
       "                        <td id=\"T_71868020_e370_11eb_8c27_18cc18fe5d70row2_col0\" class=\"data row2 col0\" >136</td>\n",
       "                        <td id=\"T_71868020_e370_11eb_8c27_18cc18fe5d70row2_col1\" class=\"data row2 col1\" >$3.04</td>\n",
       "                        <td id=\"T_71868020_e370_11eb_8c27_18cc18fe5d70row2_col2\" class=\"data row2 col2\" >$412.89</td>\n",
       "                        <td id=\"T_71868020_e370_11eb_8c27_18cc18fe5d70row2_col3\" class=\"data row2 col3\" >$3.86</td>\n",
       "            </tr>\n",
       "            <tr>\n",
       "                        <th id=\"T_71868020_e370_11eb_8c27_18cc18fe5d70level0_row3\" class=\"row_heading level0 row3\" >20-24</th>\n",
       "                        <td id=\"T_71868020_e370_11eb_8c27_18cc18fe5d70row3_col0\" class=\"data row3 col0\" >365</td>\n",
       "                        <td id=\"T_71868020_e370_11eb_8c27_18cc18fe5d70row3_col1\" class=\"data row3 col1\" >$3.05</td>\n",
       "                        <td id=\"T_71868020_e370_11eb_8c27_18cc18fe5d70row3_col2\" class=\"data row3 col2\" >$1,114.06</td>\n",
       "                        <td id=\"T_71868020_e370_11eb_8c27_18cc18fe5d70row3_col3\" class=\"data row3 col3\" >$4.32</td>\n",
       "            </tr>\n",
       "            <tr>\n",
       "                        <th id=\"T_71868020_e370_11eb_8c27_18cc18fe5d70level0_row4\" class=\"row_heading level0 row4\" >25-29</th>\n",
       "                        <td id=\"T_71868020_e370_11eb_8c27_18cc18fe5d70row4_col0\" class=\"data row4 col0\" >101</td>\n",
       "                        <td id=\"T_71868020_e370_11eb_8c27_18cc18fe5d70row4_col1\" class=\"data row4 col1\" >$2.90</td>\n",
       "                        <td id=\"T_71868020_e370_11eb_8c27_18cc18fe5d70row4_col2\" class=\"data row4 col2\" >$293.00</td>\n",
       "                        <td id=\"T_71868020_e370_11eb_8c27_18cc18fe5d70row4_col3\" class=\"data row4 col3\" >$3.81</td>\n",
       "            </tr>\n",
       "            <tr>\n",
       "                        <th id=\"T_71868020_e370_11eb_8c27_18cc18fe5d70level0_row5\" class=\"row_heading level0 row5\" >30-34</th>\n",
       "                        <td id=\"T_71868020_e370_11eb_8c27_18cc18fe5d70row5_col0\" class=\"data row5 col0\" >73</td>\n",
       "                        <td id=\"T_71868020_e370_11eb_8c27_18cc18fe5d70row5_col1\" class=\"data row5 col1\" >$2.93</td>\n",
       "                        <td id=\"T_71868020_e370_11eb_8c27_18cc18fe5d70row5_col2\" class=\"data row5 col2\" >$214.00</td>\n",
       "                        <td id=\"T_71868020_e370_11eb_8c27_18cc18fe5d70row5_col3\" class=\"data row5 col3\" >$4.12</td>\n",
       "            </tr>\n",
       "            <tr>\n",
       "                        <th id=\"T_71868020_e370_11eb_8c27_18cc18fe5d70level0_row6\" class=\"row_heading level0 row6\" >35-39</th>\n",
       "                        <td id=\"T_71868020_e370_11eb_8c27_18cc18fe5d70row6_col0\" class=\"data row6 col0\" >41</td>\n",
       "                        <td id=\"T_71868020_e370_11eb_8c27_18cc18fe5d70row6_col1\" class=\"data row6 col1\" >$3.60</td>\n",
       "                        <td id=\"T_71868020_e370_11eb_8c27_18cc18fe5d70row6_col2\" class=\"data row6 col2\" >$147.67</td>\n",
       "                        <td id=\"T_71868020_e370_11eb_8c27_18cc18fe5d70row6_col3\" class=\"data row6 col3\" >$4.76</td>\n",
       "            </tr>\n",
       "            <tr>\n",
       "                        <th id=\"T_71868020_e370_11eb_8c27_18cc18fe5d70level0_row7\" class=\"row_heading level0 row7\" >40+</th>\n",
       "                        <td id=\"T_71868020_e370_11eb_8c27_18cc18fe5d70row7_col0\" class=\"data row7 col0\" >13</td>\n",
       "                        <td id=\"T_71868020_e370_11eb_8c27_18cc18fe5d70row7_col1\" class=\"data row7 col1\" >$2.94</td>\n",
       "                        <td id=\"T_71868020_e370_11eb_8c27_18cc18fe5d70row7_col2\" class=\"data row7 col2\" >$38.24</td>\n",
       "                        <td id=\"T_71868020_e370_11eb_8c27_18cc18fe5d70row7_col3\" class=\"data row7 col3\" >$3.19</td>\n",
       "            </tr>\n",
       "    </tbody></table>"
      ],
      "text/plain": [
       "<pandas.io.formats.style.Styler at 0x1c3f81c49d0>"
      ]
     },
     "execution_count": 11,
     "metadata": {},
     "output_type": "execute_result"
    }
   ],
   "source": [
    "# rename the original dataframe to one for age\n",
    "age_demog_df = purchase_data\n",
    "# Establish bins for ages   \n",
    "bins = [0, 9.5, 14.5, 19.5, 24.5, 29.5, 34.5, 39.5, 50]\n",
    "\n",
    "# Create the names for the five bins\n",
    "age_names = [\"<10\", \"10-14\", \"15-19\", \"20-24\", \"25-29\", \"30-34\", \"35-39\", \"40+\"]\n",
    "\n",
    "# Run basic calculations to obtain purchase count, avg. purchase price, avg. purchase total per person etc. in the table below\n",
    "age_demog_df['Age Ranges'] = pd.cut(age_demog_df['Age'], bins, labels=age_names, include_lowest=True)\n",
    "\n",
    "# Calculate the numbers and percentages by age group\n",
    "age_demog_groupby_df = age_demog_df.groupby('Age Ranges')\n",
    "\n",
    "# Create a summary dataframe to hold the results\n",
    "age_demo_summary_df = age_demog_groupby_df.describe()\n",
    "\n",
    "# filter for the 'count' and average purchase price\n",
    "age_demo_summary_df = age_demo_summary_df[[('Purchase ID', 'count'), ('Price', 'mean')]]\n",
    "\n",
    "# groupby gender and then sum price\n",
    "age_demo_summary_df['Total Purchase Value'] = age_demog_df.groupby(['Age Ranges'])['Price'].sum()\n",
    "\n",
    "# for each age range, divide 'Total Purchase Value' by the total number of unique players\n",
    "UniqueSN = age_demog_groupby_df['SN'].value_counts()\n",
    "UniqueSN_groupby_df = UniqueSN.count(0)\n",
    "age_demo_summary_df['Avg Total Purchase per Person'] = age_demo_summary_df['Total Purchase Value']/UniqueSN_groupby_df\n",
    "\n",
    "# rename ('Purchase', 'count') to 'Purchase Count' and ('Price', 'mean') to 'Average Purchase Price'\n",
    "age_demo_summary_df.rename(columns={'Purchase ID': 'Purchase Count', 'count': '', 'Price': 'Average Purchase Price', 'mean': ''}, inplace=True)\n",
    "\n",
    "# format 'Purchase Count' to integer\n",
    "age_demo_summary_df[('Purchase Count', '')] = age_demo_summary_df[('Purchase Count', '')].astype(int)\n",
    "\n",
    "# format all columns to dollars with two decimal points\n",
    "format_dict = {col_name: '${:,.2f}' for col_name in age_demo_summary_df.select_dtypes(float).columns}\n",
    "\n",
    "# print the dataframe with the appropriate format\n",
    "age_demo_summary_df = age_demo_summary_df.style.format(format_dict)\n",
    "\n",
    "\n",
    "# Display the summary data frame\n",
    "age_demo_summary_df"
   ]
  },
  {
   "cell_type": "markdown",
   "metadata": {},
   "source": [
    "## Top Spenders"
   ]
  },
  {
   "cell_type": "markdown",
   "metadata": {},
   "source": [
    "* Run basic calculations to obtain the results in the table below\n",
    "\n",
    "\n",
    "* Create a summary data frame to hold the results\n",
    "\n",
    "\n",
    "* Sort the total purchase value column in descending order\n",
    "\n",
    "\n",
    "* Optional: give the displayed data cleaner formatting\n",
    "\n",
    "\n",
    "* Display a preview of the summary data frame\n",
    "\n"
   ]
  },
  {
   "cell_type": "code",
   "execution_count": 12,
   "metadata": {},
   "outputs": [
    {
     "data": {
      "text/html": [
       "<style  type=\"text/css\" >\n",
       "</style><table id=\"T_b7650992_e370_11eb_95d1_18cc18fe5d70\" ><thead>    <tr>        <th class=\"blank level0\" ></th>        <th class=\"col_heading level0 col0\" >Purchase ID</th>        <th class=\"col_heading level0 col1\" >Price</th>        <th class=\"col_heading level0 col2\" >Total Purchase Value</th>    </tr>    <tr>        <th class=\"blank level1\" ></th>        <th class=\"col_heading level1 col0\" >count</th>        <th class=\"col_heading level1 col1\" >mean</th>        <th class=\"col_heading level1 col2\" ></th>    </tr>    <tr>        <th class=\"index_name level0\" >SN</th>        <th class=\"blank\" ></th>        <th class=\"blank\" ></th>        <th class=\"blank\" ></th>    </tr></thead><tbody>\n",
       "                <tr>\n",
       "                        <th id=\"T_b7650992_e370_11eb_95d1_18cc18fe5d70level0_row0\" class=\"row_heading level0 row0\" >Lisosia93</th>\n",
       "                        <td id=\"T_b7650992_e370_11eb_95d1_18cc18fe5d70row0_col0\" class=\"data row0 col0\" >5</td>\n",
       "                        <td id=\"T_b7650992_e370_11eb_95d1_18cc18fe5d70row0_col1\" class=\"data row0 col1\" >$3.79</td>\n",
       "                        <td id=\"T_b7650992_e370_11eb_95d1_18cc18fe5d70row0_col2\" class=\"data row0 col2\" >$18.96</td>\n",
       "            </tr>\n",
       "            <tr>\n",
       "                        <th id=\"T_b7650992_e370_11eb_95d1_18cc18fe5d70level0_row1\" class=\"row_heading level0 row1\" >Idastidru52</th>\n",
       "                        <td id=\"T_b7650992_e370_11eb_95d1_18cc18fe5d70row1_col0\" class=\"data row1 col0\" >4</td>\n",
       "                        <td id=\"T_b7650992_e370_11eb_95d1_18cc18fe5d70row1_col1\" class=\"data row1 col1\" >$3.86</td>\n",
       "                        <td id=\"T_b7650992_e370_11eb_95d1_18cc18fe5d70row1_col2\" class=\"data row1 col2\" >$15.45</td>\n",
       "            </tr>\n",
       "            <tr>\n",
       "                        <th id=\"T_b7650992_e370_11eb_95d1_18cc18fe5d70level0_row2\" class=\"row_heading level0 row2\" >Chamjask73</th>\n",
       "                        <td id=\"T_b7650992_e370_11eb_95d1_18cc18fe5d70row2_col0\" class=\"data row2 col0\" >3</td>\n",
       "                        <td id=\"T_b7650992_e370_11eb_95d1_18cc18fe5d70row2_col1\" class=\"data row2 col1\" >$4.61</td>\n",
       "                        <td id=\"T_b7650992_e370_11eb_95d1_18cc18fe5d70row2_col2\" class=\"data row2 col2\" >$13.83</td>\n",
       "            </tr>\n",
       "            <tr>\n",
       "                        <th id=\"T_b7650992_e370_11eb_95d1_18cc18fe5d70level0_row3\" class=\"row_heading level0 row3\" >Iral74</th>\n",
       "                        <td id=\"T_b7650992_e370_11eb_95d1_18cc18fe5d70row3_col0\" class=\"data row3 col0\" >4</td>\n",
       "                        <td id=\"T_b7650992_e370_11eb_95d1_18cc18fe5d70row3_col1\" class=\"data row3 col1\" >$3.40</td>\n",
       "                        <td id=\"T_b7650992_e370_11eb_95d1_18cc18fe5d70row3_col2\" class=\"data row3 col2\" >$13.62</td>\n",
       "            </tr>\n",
       "            <tr>\n",
       "                        <th id=\"T_b7650992_e370_11eb_95d1_18cc18fe5d70level0_row4\" class=\"row_heading level0 row4\" >Iskadarya95</th>\n",
       "                        <td id=\"T_b7650992_e370_11eb_95d1_18cc18fe5d70row4_col0\" class=\"data row4 col0\" >3</td>\n",
       "                        <td id=\"T_b7650992_e370_11eb_95d1_18cc18fe5d70row4_col1\" class=\"data row4 col1\" >$4.37</td>\n",
       "                        <td id=\"T_b7650992_e370_11eb_95d1_18cc18fe5d70row4_col2\" class=\"data row4 col2\" >$13.10</td>\n",
       "            </tr>\n",
       "    </tbody></table>"
      ],
      "text/plain": [
       "<pandas.io.formats.style.Styler at 0x1c3f81c4d30>"
      ]
     },
     "execution_count": 12,
     "metadata": {},
     "output_type": "execute_result"
    }
   ],
   "source": [
    "# rename the original dataframe to one for age\n",
    "SN_groupby_df1 = purchase_data\n",
    "\n",
    "# group by SN\n",
    "SN_groupby_df = SN_groupby_df1.groupby('SN')\n",
    "\n",
    "# Create a summary dataframe to hold the results\n",
    "SN_groupby_summary_df = SN_groupby_df.describe()\n",
    "\n",
    "# filter for the 'count' and average purchase price\n",
    "SN_groupby_summary_df = SN_groupby_summary_df[[('Purchase ID', 'count'), ('Price', 'mean')]]\n",
    "\n",
    "# groupby gender and the sum pri\n",
    "SN_groupby_summary_df['Total Purchase Value'] = SN_groupby_df1.groupby(['SN'])['Price'].sum()\n",
    "\n",
    "# Sort in descending order based on \"Total Purchase Value\" column\n",
    "SN_groupby_summary_df = SN_groupby_summary_df.sort_values(('Total Purchase Value'), ascending=False)\n",
    "\n",
    "# rename 'count' to 'Purchase Count' and 'mean' to 'Average Purchase Price'\n",
    "#age_demo_summary_df.rename(columns={'count': 'Purchase Count', 'mean': 'Average Purchase Price'}, inplace=True)\n",
    "\n",
    "# format 'Purchase Count' to integer\n",
    "SN_groupby_summary_df[('Purchase ID', 'count')] = SN_groupby_summary_df[('Purchase ID', 'count')].astype(int)\n",
    "\n",
    "# format all columns to dollars with two decimal points\n",
    "format_dict = {col_name: '${:,.2f}' for col_name in SN_groupby_summary_df.select_dtypes(float).columns}\n",
    "\n",
    "# print the dataframe with the appropriate format\n",
    "SN_groupby_summary_df = SN_groupby_summary_df.head().style.format(format_dict)\n",
    "\n",
    "# Display the summary data frame\n",
    "SN_groupby_summary_df\n"
   ]
  },
  {
   "cell_type": "markdown",
   "metadata": {},
   "source": [
    "## Most Popular Items"
   ]
  },
  {
   "cell_type": "markdown",
   "metadata": {},
   "source": [
    "* Retrieve the Item ID, Item Name, and Item Price columns\n",
    "\n",
    "\n",
    "* Group by Item ID and Item Name. Perform calculations to obtain purchase count, average item price, and total purchase value\n",
    "\n",
    "\n",
    "* Create a summary data frame to hold the results\n",
    "\n",
    "\n",
    "* Sort the purchase count column in descending order\n",
    "\n",
    "\n",
    "* Optional: give the displayed data cleaner formatting\n",
    "\n",
    "\n",
    "* Display a preview of the summary data frame\n",
    "\n"
   ]
  },
  {
   "cell_type": "code",
   "execution_count": 13,
   "metadata": {},
   "outputs": [
    {
     "data": {
      "text/html": [
       "<style  type=\"text/css\" >\n",
       "</style><table id=\"T_c272e076_e370_11eb_bd7f_18cc18fe5d70\" ><thead>    <tr>        <th class=\"blank\" ></th>        <th class=\"blank level0\" ></th>        <th class=\"col_heading level0 col0\" >Purchase Count</th>        <th class=\"col_heading level0 col1\" >Item Price</th>        <th class=\"col_heading level0 col2\" >Total Purchase Value</th>    </tr>    <tr>        <th class=\"index_name level0\" >Item ID</th>        <th class=\"index_name level1\" >Item Name</th>        <th class=\"blank\" ></th>        <th class=\"blank\" ></th>        <th class=\"blank\" ></th>    </tr></thead><tbody>\n",
       "                <tr>\n",
       "                        <th id=\"T_c272e076_e370_11eb_bd7f_18cc18fe5d70level0_row0\" class=\"row_heading level0 row0\" >92</th>\n",
       "                        <th id=\"T_c272e076_e370_11eb_bd7f_18cc18fe5d70level1_row0\" class=\"row_heading level1 row0\" >Final Critic</th>\n",
       "                        <td id=\"T_c272e076_e370_11eb_bd7f_18cc18fe5d70row0_col0\" class=\"data row0 col0\" >13</td>\n",
       "                        <td id=\"T_c272e076_e370_11eb_bd7f_18cc18fe5d70row0_col1\" class=\"data row0 col1\" >$4.61</td>\n",
       "                        <td id=\"T_c272e076_e370_11eb_bd7f_18cc18fe5d70row0_col2\" class=\"data row0 col2\" >$59.99</td>\n",
       "            </tr>\n",
       "            <tr>\n",
       "                        <th id=\"T_c272e076_e370_11eb_bd7f_18cc18fe5d70level0_row1\" class=\"row_heading level0 row1\" >178</th>\n",
       "                        <th id=\"T_c272e076_e370_11eb_bd7f_18cc18fe5d70level1_row1\" class=\"row_heading level1 row1\" >Oathbreaker, Last Hope of the Breaking Storm</th>\n",
       "                        <td id=\"T_c272e076_e370_11eb_bd7f_18cc18fe5d70row1_col0\" class=\"data row1 col0\" >12</td>\n",
       "                        <td id=\"T_c272e076_e370_11eb_bd7f_18cc18fe5d70row1_col1\" class=\"data row1 col1\" >$4.23</td>\n",
       "                        <td id=\"T_c272e076_e370_11eb_bd7f_18cc18fe5d70row1_col2\" class=\"data row1 col2\" >$50.76</td>\n",
       "            </tr>\n",
       "            <tr>\n",
       "                        <th id=\"T_c272e076_e370_11eb_bd7f_18cc18fe5d70level0_row2\" class=\"row_heading level0 row2\" >145</th>\n",
       "                        <th id=\"T_c272e076_e370_11eb_bd7f_18cc18fe5d70level1_row2\" class=\"row_heading level1 row2\" >Fiery Glass Crusader</th>\n",
       "                        <td id=\"T_c272e076_e370_11eb_bd7f_18cc18fe5d70row2_col0\" class=\"data row2 col0\" >9</td>\n",
       "                        <td id=\"T_c272e076_e370_11eb_bd7f_18cc18fe5d70row2_col1\" class=\"data row2 col1\" >$4.58</td>\n",
       "                        <td id=\"T_c272e076_e370_11eb_bd7f_18cc18fe5d70row2_col2\" class=\"data row2 col2\" >$41.22</td>\n",
       "            </tr>\n",
       "            <tr>\n",
       "                        <th id=\"T_c272e076_e370_11eb_bd7f_18cc18fe5d70level0_row3\" class=\"row_heading level0 row3\" >132</th>\n",
       "                        <th id=\"T_c272e076_e370_11eb_bd7f_18cc18fe5d70level1_row3\" class=\"row_heading level1 row3\" >Persuasion</th>\n",
       "                        <td id=\"T_c272e076_e370_11eb_bd7f_18cc18fe5d70row3_col0\" class=\"data row3 col0\" >9</td>\n",
       "                        <td id=\"T_c272e076_e370_11eb_bd7f_18cc18fe5d70row3_col1\" class=\"data row3 col1\" >$3.22</td>\n",
       "                        <td id=\"T_c272e076_e370_11eb_bd7f_18cc18fe5d70row3_col2\" class=\"data row3 col2\" >$28.99</td>\n",
       "            </tr>\n",
       "            <tr>\n",
       "                        <th id=\"T_c272e076_e370_11eb_bd7f_18cc18fe5d70level0_row4\" class=\"row_heading level0 row4\" >108</th>\n",
       "                        <th id=\"T_c272e076_e370_11eb_bd7f_18cc18fe5d70level1_row4\" class=\"row_heading level1 row4\" >Extraction, Quickblade Of Trembling Hands</th>\n",
       "                        <td id=\"T_c272e076_e370_11eb_bd7f_18cc18fe5d70row4_col0\" class=\"data row4 col0\" >9</td>\n",
       "                        <td id=\"T_c272e076_e370_11eb_bd7f_18cc18fe5d70row4_col1\" class=\"data row4 col1\" >$3.53</td>\n",
       "                        <td id=\"T_c272e076_e370_11eb_bd7f_18cc18fe5d70row4_col2\" class=\"data row4 col2\" >$31.77</td>\n",
       "            </tr>\n",
       "    </tbody></table>"
      ],
      "text/plain": [
       "<pandas.io.formats.style.Styler at 0x1c3f81c47f0>"
      ]
     },
     "execution_count": 13,
     "metadata": {},
     "output_type": "execute_result"
    }
   ],
   "source": [
    "# Retrieve the Item ID, Item Name, and Item Price columns\n",
    "grouped_popular_df = purchase_data[['Item ID', 'Item Name', 'Price']]\n",
    "\n",
    "# Group by Item ID and Item Name\n",
    "grouped_popular_df = grouped_popular_df.groupby(['Item ID', 'Item Name'])\n",
    "\n",
    "# Perform calculations to obtain purchase count, average item price, and total purchase value and \n",
    "    # create a summary data frame to hold the results\n",
    "grouped_popular_describe_df = grouped_popular_df['Price'].describe()\n",
    "grouped_popular_filter_df = grouped_popular_describe_df[['count', 'mean']].copy()\n",
    "grouped_popular_filter_df[\"Total Purchase Value\"] = grouped_popular_df['Price'].sum()\n",
    "\n",
    "\n",
    "# Sort in descending order based on \"Total Purchase Value\" column\n",
    "grouped_popular_filter_sortCnt_df = grouped_popular_filter_df.sort_values(\"count\", ascending=False)\n",
    "\n",
    "# rename 'count' to 'Purchase Count' and 'mean' to 'Average Purchase Price'\n",
    "grouped_popular_filter_sortCnt_df.rename(columns={'count': 'Purchase Count', 'mean': 'Item Price'}, inplace=True)\n",
    "\n",
    "# format 'Purchase Count' to integer\n",
    "grouped_popular_filter_sortCnt_df[('Purchase Count')] = grouped_popular_filter_sortCnt_df[('Purchase Count')].astype(int)\n",
    "\n",
    "# format all columns to dollars with two decimal points\n",
    "format_dict = {col_name: '${:,.2f}' for col_name in grouped_popular_filter_sortCnt_df.select_dtypes(float).columns}\n",
    "\n",
    "# print the dataframe with the appropriate format\n",
    "grouped_popular_filter_sortCnt_df = grouped_popular_filter_sortCnt_df.head().style.format(format_dict)\n",
    "\n",
    "# Display a preview of the summary data frame\n",
    "grouped_popular_filter_sortCnt_df"
   ]
  },
  {
   "cell_type": "markdown",
   "metadata": {},
   "source": [
    "## Most Profitable Items"
   ]
  },
  {
   "cell_type": "markdown",
   "metadata": {},
   "source": [
    "* Sort the above table by total purchase value in descending order\n",
    "\n",
    "\n",
    "* Optional: give the displayed data cleaner formatting\n",
    "\n",
    "\n",
    "* Display a preview of the data frame\n",
    "\n"
   ]
  },
  {
   "cell_type": "code",
   "execution_count": 10,
   "metadata": {
    "scrolled": true
   },
   "outputs": [
    {
     "data": {
      "text/html": [
       "<style  type=\"text/css\" >\n",
       "</style><table id=\"T_275f095b_e370_11eb_89fa_18cc18fe5d70\" ><thead>    <tr>        <th class=\"blank\" ></th>        <th class=\"blank level0\" ></th>        <th class=\"col_heading level0 col0\" >Purchase Count</th>        <th class=\"col_heading level0 col1\" >Item Price</th>        <th class=\"col_heading level0 col2\" >Total Purchase Value</th>    </tr>    <tr>        <th class=\"index_name level0\" >Item ID</th>        <th class=\"index_name level1\" >Item Name</th>        <th class=\"blank\" ></th>        <th class=\"blank\" ></th>        <th class=\"blank\" ></th>    </tr></thead><tbody>\n",
       "                <tr>\n",
       "                        <th id=\"T_275f095b_e370_11eb_89fa_18cc18fe5d70level0_row0\" class=\"row_heading level0 row0\" >92</th>\n",
       "                        <th id=\"T_275f095b_e370_11eb_89fa_18cc18fe5d70level1_row0\" class=\"row_heading level1 row0\" >Final Critic</th>\n",
       "                        <td id=\"T_275f095b_e370_11eb_89fa_18cc18fe5d70row0_col0\" class=\"data row0 col0\" >13</td>\n",
       "                        <td id=\"T_275f095b_e370_11eb_89fa_18cc18fe5d70row0_col1\" class=\"data row0 col1\" >$4.61</td>\n",
       "                        <td id=\"T_275f095b_e370_11eb_89fa_18cc18fe5d70row0_col2\" class=\"data row0 col2\" >$59.99</td>\n",
       "            </tr>\n",
       "            <tr>\n",
       "                        <th id=\"T_275f095b_e370_11eb_89fa_18cc18fe5d70level0_row1\" class=\"row_heading level0 row1\" >178</th>\n",
       "                        <th id=\"T_275f095b_e370_11eb_89fa_18cc18fe5d70level1_row1\" class=\"row_heading level1 row1\" >Oathbreaker, Last Hope of the Breaking Storm</th>\n",
       "                        <td id=\"T_275f095b_e370_11eb_89fa_18cc18fe5d70row1_col0\" class=\"data row1 col0\" >12</td>\n",
       "                        <td id=\"T_275f095b_e370_11eb_89fa_18cc18fe5d70row1_col1\" class=\"data row1 col1\" >$4.23</td>\n",
       "                        <td id=\"T_275f095b_e370_11eb_89fa_18cc18fe5d70row1_col2\" class=\"data row1 col2\" >$50.76</td>\n",
       "            </tr>\n",
       "            <tr>\n",
       "                        <th id=\"T_275f095b_e370_11eb_89fa_18cc18fe5d70level0_row2\" class=\"row_heading level0 row2\" >82</th>\n",
       "                        <th id=\"T_275f095b_e370_11eb_89fa_18cc18fe5d70level1_row2\" class=\"row_heading level1 row2\" >Nirvana</th>\n",
       "                        <td id=\"T_275f095b_e370_11eb_89fa_18cc18fe5d70row2_col0\" class=\"data row2 col0\" >9</td>\n",
       "                        <td id=\"T_275f095b_e370_11eb_89fa_18cc18fe5d70row2_col1\" class=\"data row2 col1\" >$4.90</td>\n",
       "                        <td id=\"T_275f095b_e370_11eb_89fa_18cc18fe5d70row2_col2\" class=\"data row2 col2\" >$44.10</td>\n",
       "            </tr>\n",
       "            <tr>\n",
       "                        <th id=\"T_275f095b_e370_11eb_89fa_18cc18fe5d70level0_row3\" class=\"row_heading level0 row3\" >145</th>\n",
       "                        <th id=\"T_275f095b_e370_11eb_89fa_18cc18fe5d70level1_row3\" class=\"row_heading level1 row3\" >Fiery Glass Crusader</th>\n",
       "                        <td id=\"T_275f095b_e370_11eb_89fa_18cc18fe5d70row3_col0\" class=\"data row3 col0\" >9</td>\n",
       "                        <td id=\"T_275f095b_e370_11eb_89fa_18cc18fe5d70row3_col1\" class=\"data row3 col1\" >$4.58</td>\n",
       "                        <td id=\"T_275f095b_e370_11eb_89fa_18cc18fe5d70row3_col2\" class=\"data row3 col2\" >$41.22</td>\n",
       "            </tr>\n",
       "            <tr>\n",
       "                        <th id=\"T_275f095b_e370_11eb_89fa_18cc18fe5d70level0_row4\" class=\"row_heading level0 row4\" >103</th>\n",
       "                        <th id=\"T_275f095b_e370_11eb_89fa_18cc18fe5d70level1_row4\" class=\"row_heading level1 row4\" >Singed Scalpel</th>\n",
       "                        <td id=\"T_275f095b_e370_11eb_89fa_18cc18fe5d70row4_col0\" class=\"data row4 col0\" >8</td>\n",
       "                        <td id=\"T_275f095b_e370_11eb_89fa_18cc18fe5d70row4_col1\" class=\"data row4 col1\" >$4.35</td>\n",
       "                        <td id=\"T_275f095b_e370_11eb_89fa_18cc18fe5d70row4_col2\" class=\"data row4 col2\" >$34.80</td>\n",
       "            </tr>\n",
       "    </tbody></table>"
      ],
      "text/plain": [
       "<pandas.io.formats.style.Styler at 0x1c3f81ae940>"
      ]
     },
     "execution_count": 10,
     "metadata": {},
     "output_type": "execute_result"
    }
   ],
   "source": [
    "# Sort the above table by total purchase value in descending order\n",
    "grouped_popular_filter_sortTPV_df = grouped_popular_filter_df.sort_values(\"Total Purchase Value\", ascending=False)\n",
    "\n",
    "\n",
    "# Optional: give the displayed data cleaner formatting\n",
    "# rename 'count' to 'Purchase Count' and 'mean' to 'Average Purchase Price'\n",
    "grouped_popular_filter_sortTPV_df.rename(columns={'count': 'Purchase Count', 'mean': 'Item Price'}, inplace=True)\n",
    "\n",
    "# format 'Purchase Count' to integer\n",
    "grouped_popular_filter_sortTPV_df[('Purchase Count')] = grouped_popular_filter_sortTPV_df[('Purchase Count')].astype(int)\n",
    "\n",
    "# format all columns to dollars with two decimal points\n",
    "format_dict = {col_name: '${:,.2f}' for col_name in grouped_popular_filter_sortTPV_df.select_dtypes(float).columns}\n",
    "\n",
    "# print the dataframe with the appropriate format\n",
    "grouped_popular_filter_sortTPV_df = grouped_popular_filter_sortTPV_df.head().style.format(format_dict)\n",
    "\n",
    "# Display a preview of the data frame\n",
    "grouped_popular_filter_sortTPV_df\n",
    "\n"
   ]
  },
  {
   "cell_type": "code",
   "execution_count": null,
   "metadata": {},
   "outputs": [],
   "source": []
  }
 ],
 "metadata": {
  "anaconda-cloud": {},
  "kernel_info": {
   "name": "python3"
  },
  "kernelspec": {
   "display_name": "Python 3",
   "language": "python",
   "name": "python3"
  },
  "language_info": {
   "codemirror_mode": {
    "name": "ipython",
    "version": 3
   },
   "file_extension": ".py",
   "mimetype": "text/x-python",
   "name": "python",
   "nbconvert_exporter": "python",
   "pygments_lexer": "ipython3",
   "version": "3.8.5"
  },
  "latex_envs": {
   "LaTeX_envs_menu_present": true,
   "autoclose": false,
   "autocomplete": true,
   "bibliofile": "biblio.bib",
   "cite_by": "apalike",
   "current_citInitial": 1,
   "eqLabelWithNumbers": true,
   "eqNumInitial": 1,
   "hotkeys": {
    "equation": "Ctrl-E",
    "itemize": "Ctrl-I"
   },
   "labels_anchors": false,
   "latex_user_defs": false,
   "report_style_numbering": false,
   "user_envs_cfg": false
  },
  "nteract": {
   "version": "0.2.0"
  }
 },
 "nbformat": 4,
 "nbformat_minor": 4
}
